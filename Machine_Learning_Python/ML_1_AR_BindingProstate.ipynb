{
 "cells": [
  {
   "cell_type": "markdown",
   "metadata": {},
   "source": [
    "# Use of Machine Learning Methods with Keras for predicting cancer on non-carcinogenic cell line with SNP data\n",
    "\n",
    "## Objective\n",
    "\n",
    "I want to predict carcinogenic cell line based on:\n",
    "    \n",
    "    - SNP transversion/transition\n",
    "    - maf score of SNP\n",
    "    - functional element associated with the SNP\n",
    "    - cell line"
   ]
  },
  {
   "cell_type": "code",
   "execution_count": 3,
   "metadata": {},
   "outputs": [],
   "source": [
    "# imports utilites\n",
    "import pandas as pd\n",
    "import numpy as np\n",
    "import matplotlib.pyplot as plt\n",
    "import re\n",
    "import time"
   ]
  },
  {
   "cell_type": "code",
   "execution_count": 4,
   "metadata": {},
   "outputs": [
    {
     "data": {
      "text/html": [
       "<div>\n",
       "<style scoped>\n",
       "    .dataframe tbody tr th:only-of-type {\n",
       "        vertical-align: middle;\n",
       "    }\n",
       "\n",
       "    .dataframe tbody tr th {\n",
       "        vertical-align: top;\n",
       "    }\n",
       "\n",
       "    .dataframe thead th {\n",
       "        text-align: right;\n",
       "    }\n",
       "</style>\n",
       "<table border=\"1\" class=\"dataframe\">\n",
       "  <thead>\n",
       "    <tr style=\"text-align: right;\">\n",
       "      <th></th>\n",
       "      <th>RS_ID</th>\n",
       "      <th>chr</th>\n",
       "      <th>pos</th>\n",
       "      <th>ref</th>\n",
       "      <th>alt</th>\n",
       "      <th>scoreA</th>\n",
       "      <th>scoreB</th>\n",
       "      <th>functional_element</th>\n",
       "      <th>n_experiment</th>\n",
       "      <th>file_type</th>\n",
       "      <th>cell_line</th>\n",
       "      <th>cancer_type</th>\n",
       "      <th>cell_line_cancer</th>\n",
       "    </tr>\n",
       "  </thead>\n",
       "  <tbody>\n",
       "    <tr>\n",
       "      <th>457928</th>\n",
       "      <td>rs997633</td>\n",
       "      <td>5</td>\n",
       "      <td>132219304</td>\n",
       "      <td>A</td>\n",
       "      <td>T</td>\n",
       "      <td>0.1052</td>\n",
       "      <td>0.112529</td>\n",
       "      <td>CTCF-human</td>\n",
       "      <td>1</td>\n",
       "      <td>narrow</td>\n",
       "      <td>RWPE1</td>\n",
       "      <td>prostate</td>\n",
       "      <td>normal</td>\n",
       "    </tr>\n",
       "    <tr>\n",
       "      <th>457929</th>\n",
       "      <td>rs997633</td>\n",
       "      <td>5</td>\n",
       "      <td>132219304</td>\n",
       "      <td>A</td>\n",
       "      <td>T</td>\n",
       "      <td>0.1052</td>\n",
       "      <td>0.112529</td>\n",
       "      <td>CTCF-human</td>\n",
       "      <td>1</td>\n",
       "      <td>narrow</td>\n",
       "      <td>RWPE2</td>\n",
       "      <td>prostate</td>\n",
       "      <td>normal</td>\n",
       "    </tr>\n",
       "    <tr>\n",
       "      <th>457930</th>\n",
       "      <td>rs997633</td>\n",
       "      <td>5</td>\n",
       "      <td>132219304</td>\n",
       "      <td>A</td>\n",
       "      <td>T</td>\n",
       "      <td>0.1052</td>\n",
       "      <td>0.112529</td>\n",
       "      <td>CTCF-human</td>\n",
       "      <td>1</td>\n",
       "      <td>narrow</td>\n",
       "      <td>VCaP</td>\n",
       "      <td>prostate</td>\n",
       "      <td>cancer</td>\n",
       "    </tr>\n",
       "    <tr>\n",
       "      <th>457931</th>\n",
       "      <td>rs997633</td>\n",
       "      <td>5</td>\n",
       "      <td>132219304</td>\n",
       "      <td>A</td>\n",
       "      <td>T</td>\n",
       "      <td>0.1052</td>\n",
       "      <td>0.112529</td>\n",
       "      <td>EP300-human</td>\n",
       "      <td>1</td>\n",
       "      <td>narrow</td>\n",
       "      <td>prostate gland</td>\n",
       "      <td>NaN</td>\n",
       "      <td>normal</td>\n",
       "    </tr>\n",
       "    <tr>\n",
       "      <th>457932</th>\n",
       "      <td>rs997633</td>\n",
       "      <td>5</td>\n",
       "      <td>132219304</td>\n",
       "      <td>A</td>\n",
       "      <td>T</td>\n",
       "      <td>0.1052</td>\n",
       "      <td>0.112529</td>\n",
       "      <td>POLR2AphosphoS5-human</td>\n",
       "      <td>1</td>\n",
       "      <td>narrow</td>\n",
       "      <td>prostate gland</td>\n",
       "      <td>NaN</td>\n",
       "      <td>normal</td>\n",
       "    </tr>\n",
       "  </tbody>\n",
       "</table>\n",
       "</div>"
      ],
      "text/plain": [
       "           RS_ID chr        pos ref alt  scoreA    scoreB  \\\n",
       "457928  rs997633   5  132219304   A   T  0.1052  0.112529   \n",
       "457929  rs997633   5  132219304   A   T  0.1052  0.112529   \n",
       "457930  rs997633   5  132219304   A   T  0.1052  0.112529   \n",
       "457931  rs997633   5  132219304   A   T  0.1052  0.112529   \n",
       "457932  rs997633   5  132219304   A   T  0.1052  0.112529   \n",
       "\n",
       "           functional_element  n_experiment file_type       cell_line  \\\n",
       "457928             CTCF-human             1    narrow           RWPE1   \n",
       "457929             CTCF-human             1    narrow           RWPE2   \n",
       "457930             CTCF-human             1    narrow            VCaP   \n",
       "457931            EP300-human             1    narrow  prostate gland   \n",
       "457932  POLR2AphosphoS5-human             1    narrow  prostate gland   \n",
       "\n",
       "       cancer_type cell_line_cancer  \n",
       "457928    prostate           normal  \n",
       "457929    prostate           normal  \n",
       "457930    prostate           cancer  \n",
       "457931         NaN           normal  \n",
       "457932         NaN           normal  "
      ]
     },
     "execution_count": 4,
     "metadata": {},
     "output_type": "execute_result"
    }
   ],
   "source": [
    "df = pd.read_csv('functionalElementDataARBindingProstate.csv')\n",
    "df.tail()"
   ]
  },
  {
   "cell_type": "code",
   "execution_count": 5,
   "metadata": {
    "scrolled": true
   },
   "outputs": [
    {
     "name": "stdout",
     "output_type": "stream",
     "text": [
      "<class 'pandas.core.frame.DataFrame'>\n",
      "RangeIndex: 457933 entries, 0 to 457932\n",
      "Data columns (total 13 columns):\n",
      " #   Column              Non-Null Count   Dtype  \n",
      "---  ------              --------------   -----  \n",
      " 0   RS_ID               457933 non-null  object \n",
      " 1   chr                 457933 non-null  object \n",
      " 2   pos                 457933 non-null  int64  \n",
      " 3   ref                 457933 non-null  object \n",
      " 4   alt                 457933 non-null  object \n",
      " 5   scoreA              379835 non-null  float64\n",
      " 6   scoreB              392889 non-null  float64\n",
      " 7   functional_element  457933 non-null  object \n",
      " 8   n_experiment        457933 non-null  int64  \n",
      " 9   file_type           457933 non-null  object \n",
      " 10  cell_line           457933 non-null  object \n",
      " 11  cancer_type         285609 non-null  object \n",
      " 12  cell_line_cancer    457933 non-null  object \n",
      "dtypes: float64(2), int64(2), object(9)\n",
      "memory usage: 45.4+ MB\n"
     ]
    }
   ],
   "source": [
    "df.info()"
   ]
  },
  {
   "cell_type": "markdown",
   "metadata": {},
   "source": [
    "## Data cleaning"
   ]
  },
  {
   "cell_type": "code",
   "execution_count": 6,
   "metadata": {},
   "outputs": [
    {
     "data": {
      "text/plain": [
       "RS_ID                      0\n",
       "chr                        0\n",
       "pos                        0\n",
       "ref                        0\n",
       "alt                        0\n",
       "scoreA                 78098\n",
       "scoreB                 65044\n",
       "functional_element         0\n",
       "n_experiment               0\n",
       "file_type                  0\n",
       "cell_line                  0\n",
       "cancer_type           172324\n",
       "cell_line_cancer           0\n",
       "dtype: int64"
      ]
     },
     "execution_count": 6,
     "metadata": {},
     "output_type": "execute_result"
    }
   ],
   "source": [
    "df.isnull().sum() # check for null value"
   ]
  },
  {
   "cell_type": "markdown",
   "metadata": {},
   "source": [
    "### Feature engineering of cancer_type\n",
    "Because I have 172324 values empty on cancer_type, I don't want to eliminate it, I engineer the feature, changing label ('prostate','empty') with (1,2) labels.\n",
    "\n",
    "Procedure for feature engineering on cancer_type:\n",
    "possible values ('empty' or 'prostate')\n",
    "\n",
    "1) replace blank value with NaN\n",
    "\n",
    "2) replace Nan value with 2, the numeric label for non-carcinogenic \n",
    "\n",
    "3) replace 'prostate' value with 1, the numeric label for prostate"
   ]
  },
  {
   "cell_type": "code",
   "execution_count": 7,
   "metadata": {},
   "outputs": [],
   "source": [
    "df['cancer_type']=df['cancer_type'].replace(r'^\\s*$', np.nan, regex=True)\n",
    "df['cancer_type']=df['cancer_type'].fillna(1) # NORMAL = 1\n",
    "df['cancer_type']=df['cancer_type'].replace('prostate',0, regex=True) # PROSTATE = 0"
   ]
  },
  {
   "cell_type": "code",
   "execution_count": 8,
   "metadata": {},
   "outputs": [],
   "source": [
    "df2=df.copy() # copy the dataframe to new dataframe"
   ]
  },
  {
   "cell_type": "code",
   "execution_count": 9,
   "metadata": {},
   "outputs": [
    {
     "data": {
      "text/html": [
       "<div>\n",
       "<style scoped>\n",
       "    .dataframe tbody tr th:only-of-type {\n",
       "        vertical-align: middle;\n",
       "    }\n",
       "\n",
       "    .dataframe tbody tr th {\n",
       "        vertical-align: top;\n",
       "    }\n",
       "\n",
       "    .dataframe thead th {\n",
       "        text-align: right;\n",
       "    }\n",
       "</style>\n",
       "<table border=\"1\" class=\"dataframe\">\n",
       "  <thead>\n",
       "    <tr style=\"text-align: right;\">\n",
       "      <th></th>\n",
       "      <th>RS_ID</th>\n",
       "      <th>chr</th>\n",
       "      <th>pos</th>\n",
       "      <th>ref</th>\n",
       "      <th>alt</th>\n",
       "      <th>scoreA</th>\n",
       "      <th>scoreB</th>\n",
       "      <th>functional_element</th>\n",
       "      <th>n_experiment</th>\n",
       "      <th>file_type</th>\n",
       "      <th>cell_line</th>\n",
       "      <th>cancer_type</th>\n",
       "      <th>cell_line_cancer</th>\n",
       "    </tr>\n",
       "  </thead>\n",
       "  <tbody>\n",
       "    <tr>\n",
       "      <th>0</th>\n",
       "      <td>rs10201930</td>\n",
       "      <td>2</td>\n",
       "      <td>189874460</td>\n",
       "      <td>G</td>\n",
       "      <td>A</td>\n",
       "      <td>0.0719</td>\n",
       "      <td>0.065940</td>\n",
       "      <td>H3K36me3-human</td>\n",
       "      <td>1</td>\n",
       "      <td>narrow</td>\n",
       "      <td>prostate</td>\n",
       "      <td>2</td>\n",
       "      <td>normal</td>\n",
       "    </tr>\n",
       "    <tr>\n",
       "      <th>1</th>\n",
       "      <td>rs10178969</td>\n",
       "      <td>2</td>\n",
       "      <td>190315723</td>\n",
       "      <td>A</td>\n",
       "      <td>C</td>\n",
       "      <td>0.0657</td>\n",
       "      <td>0.068314</td>\n",
       "      <td>EZH2-human</td>\n",
       "      <td>1</td>\n",
       "      <td>narrow</td>\n",
       "      <td>PC-3</td>\n",
       "      <td>1</td>\n",
       "      <td>cancer</td>\n",
       "    </tr>\n",
       "    <tr>\n",
       "      <th>2</th>\n",
       "      <td>rs10178969</td>\n",
       "      <td>2</td>\n",
       "      <td>190315723</td>\n",
       "      <td>A</td>\n",
       "      <td>C</td>\n",
       "      <td>0.0657</td>\n",
       "      <td>0.068314</td>\n",
       "      <td>H3K36me3-human</td>\n",
       "      <td>1</td>\n",
       "      <td>narrow</td>\n",
       "      <td>PC-3</td>\n",
       "      <td>1</td>\n",
       "      <td>cancer</td>\n",
       "    </tr>\n",
       "    <tr>\n",
       "      <th>3</th>\n",
       "      <td>rs1037532</td>\n",
       "      <td>18</td>\n",
       "      <td>50038602</td>\n",
       "      <td>T</td>\n",
       "      <td>C</td>\n",
       "      <td>0.0280</td>\n",
       "      <td>0.034459</td>\n",
       "      <td>H3K27me3-human</td>\n",
       "      <td>1</td>\n",
       "      <td>narrow</td>\n",
       "      <td>PC-3</td>\n",
       "      <td>1</td>\n",
       "      <td>cancer</td>\n",
       "    </tr>\n",
       "    <tr>\n",
       "      <th>4</th>\n",
       "      <td>rs10039204</td>\n",
       "      <td>5</td>\n",
       "      <td>101180077</td>\n",
       "      <td>T</td>\n",
       "      <td>C</td>\n",
       "      <td>NaN</td>\n",
       "      <td>NaN</td>\n",
       "      <td>EZH2-human</td>\n",
       "      <td>1</td>\n",
       "      <td>narrow</td>\n",
       "      <td>PC-3</td>\n",
       "      <td>1</td>\n",
       "      <td>cancer</td>\n",
       "    </tr>\n",
       "  </tbody>\n",
       "</table>\n",
       "</div>"
      ],
      "text/plain": [
       "        RS_ID chr        pos ref alt  scoreA    scoreB functional_element  \\\n",
       "0  rs10201930   2  189874460   G   A  0.0719  0.065940     H3K36me3-human   \n",
       "1  rs10178969   2  190315723   A   C  0.0657  0.068314         EZH2-human   \n",
       "2  rs10178969   2  190315723   A   C  0.0657  0.068314     H3K36me3-human   \n",
       "3   rs1037532  18   50038602   T   C  0.0280  0.034459     H3K27me3-human   \n",
       "4  rs10039204   5  101180077   T   C     NaN       NaN         EZH2-human   \n",
       "\n",
       "   n_experiment file_type cell_line  cancer_type cell_line_cancer  \n",
       "0             1    narrow  prostate            2           normal  \n",
       "1             1    narrow      PC-3            1           cancer  \n",
       "2             1    narrow      PC-3            1           cancer  \n",
       "3             1    narrow      PC-3            1           cancer  \n",
       "4             1    narrow      PC-3            1           cancer  "
      ]
     },
     "execution_count": 9,
     "metadata": {},
     "output_type": "execute_result"
    }
   ],
   "source": [
    "df2.head()"
   ]
  },
  {
   "cell_type": "code",
   "execution_count": 10,
   "metadata": {},
   "outputs": [
    {
     "data": {
      "text/plain": [
       "RS_ID                     0\n",
       "chr                       0\n",
       "pos                       0\n",
       "ref                       0\n",
       "alt                       0\n",
       "scoreA                78098\n",
       "scoreB                65044\n",
       "functional_element        0\n",
       "n_experiment              0\n",
       "file_type                 0\n",
       "cell_line                 0\n",
       "cancer_type               0\n",
       "cell_line_cancer          0\n",
       "dtype: int64"
      ]
     },
     "execution_count": 10,
     "metadata": {},
     "output_type": "execute_result"
    }
   ],
   "source": [
    "df2.isnull().sum() # Check if there's null values"
   ]
  },
  {
   "cell_type": "markdown",
   "metadata": {},
   "source": [
    "### Feature engineering on ScoreA and ScoreB"
   ]
  },
  {
   "cell_type": "markdown",
   "metadata": {},
   "source": [
    "Create a mean value of ScoreA and ScoreB that I call ScoreC."
   ]
  },
  {
   "cell_type": "code",
   "execution_count": 11,
   "metadata": {},
   "outputs": [
    {
     "name": "stdout",
     "output_type": "stream",
     "text": [
      " time : 0.0002346038818359375\n"
     ]
    }
   ],
   "source": [
    "st=time.time()\n",
    "def adjust_score_mark1(df): # SLOWER than mark2\n",
    "    \"\"\" try to use every maf possible\n",
    "        if each maf score miss, drop the row\n",
    "        if just one miss, use as scoreC the other\n",
    "        if both are present use the mean for calculate scoreC\n",
    "    \"\"\"\n",
    "    for index, row in df.iterrows():\n",
    "        if not row['scoreB']:\n",
    "            row['scoreC']=row['scoreA']\n",
    "        elif not row['scoreA']:\n",
    "            row['scoreC']=row['scoreB']\n",
    "        elif row['scoreB'] and row['scoreA']:\n",
    "            row['scoreC']=(row['scoreA']+row['scoreB'])/2\n",
    "        else:\n",
    "            pass\n",
    "    return df\n",
    "print(' time :',time.time() - st)"
   ]
  },
  {
   "cell_type": "code",
   "execution_count": 12,
   "metadata": {},
   "outputs": [],
   "source": [
    "def adjust_score_mark2(df): # FASTER than mark1\n",
    "    \n",
    "    \"\"\" try to use every maf possible\n",
    "            if each maf score miss, drop the row\n",
    "            if just one miss, use as scoreC the other\n",
    "            if both are present use the mean for calculate scoreC\n",
    "    \"\"\"\n",
    "    list_=[]\n",
    "    for row in df.itertuples(index=True, name='Pandas'):\n",
    "        A,B = getattr(row, \"scoreA\"), getattr(row, \"scoreB\")\n",
    "\n",
    "        if A and B:\n",
    "            C=(A+B)/2\n",
    "        if A and not B:\n",
    "            C = A\n",
    "        if B and not A:\n",
    "            C = 0\n",
    "            \n",
    "        list_.append(C)\n",
    "    df['scoreC']=list_\n",
    "\n",
    "    return df"
   ]
  },
  {
   "cell_type": "code",
   "execution_count": 13,
   "metadata": {},
   "outputs": [],
   "source": [
    "df3 = adjust_score_mark2(df2) # wait for long time for calculation "
   ]
  },
  {
   "cell_type": "code",
   "execution_count": 14,
   "metadata": {},
   "outputs": [
    {
     "data": {
      "text/html": [
       "<div>\n",
       "<style scoped>\n",
       "    .dataframe tbody tr th:only-of-type {\n",
       "        vertical-align: middle;\n",
       "    }\n",
       "\n",
       "    .dataframe tbody tr th {\n",
       "        vertical-align: top;\n",
       "    }\n",
       "\n",
       "    .dataframe thead th {\n",
       "        text-align: right;\n",
       "    }\n",
       "</style>\n",
       "<table border=\"1\" class=\"dataframe\">\n",
       "  <thead>\n",
       "    <tr style=\"text-align: right;\">\n",
       "      <th></th>\n",
       "      <th>RS_ID</th>\n",
       "      <th>chr</th>\n",
       "      <th>pos</th>\n",
       "      <th>ref</th>\n",
       "      <th>alt</th>\n",
       "      <th>scoreA</th>\n",
       "      <th>scoreB</th>\n",
       "      <th>functional_element</th>\n",
       "      <th>n_experiment</th>\n",
       "      <th>file_type</th>\n",
       "      <th>cell_line</th>\n",
       "      <th>cancer_type</th>\n",
       "      <th>cell_line_cancer</th>\n",
       "      <th>scoreC</th>\n",
       "    </tr>\n",
       "  </thead>\n",
       "  <tbody>\n",
       "    <tr>\n",
       "      <th>0</th>\n",
       "      <td>rs10201930</td>\n",
       "      <td>2</td>\n",
       "      <td>189874460</td>\n",
       "      <td>G</td>\n",
       "      <td>A</td>\n",
       "      <td>0.0719</td>\n",
       "      <td>0.065940</td>\n",
       "      <td>H3K36me3-human</td>\n",
       "      <td>1</td>\n",
       "      <td>narrow</td>\n",
       "      <td>prostate</td>\n",
       "      <td>2</td>\n",
       "      <td>normal</td>\n",
       "      <td>0.068920</td>\n",
       "    </tr>\n",
       "    <tr>\n",
       "      <th>1</th>\n",
       "      <td>rs10178969</td>\n",
       "      <td>2</td>\n",
       "      <td>190315723</td>\n",
       "      <td>A</td>\n",
       "      <td>C</td>\n",
       "      <td>0.0657</td>\n",
       "      <td>0.068314</td>\n",
       "      <td>EZH2-human</td>\n",
       "      <td>1</td>\n",
       "      <td>narrow</td>\n",
       "      <td>PC-3</td>\n",
       "      <td>1</td>\n",
       "      <td>cancer</td>\n",
       "      <td>0.067007</td>\n",
       "    </tr>\n",
       "    <tr>\n",
       "      <th>2</th>\n",
       "      <td>rs10178969</td>\n",
       "      <td>2</td>\n",
       "      <td>190315723</td>\n",
       "      <td>A</td>\n",
       "      <td>C</td>\n",
       "      <td>0.0657</td>\n",
       "      <td>0.068314</td>\n",
       "      <td>H3K36me3-human</td>\n",
       "      <td>1</td>\n",
       "      <td>narrow</td>\n",
       "      <td>PC-3</td>\n",
       "      <td>1</td>\n",
       "      <td>cancer</td>\n",
       "      <td>0.067007</td>\n",
       "    </tr>\n",
       "    <tr>\n",
       "      <th>3</th>\n",
       "      <td>rs1037532</td>\n",
       "      <td>18</td>\n",
       "      <td>50038602</td>\n",
       "      <td>T</td>\n",
       "      <td>C</td>\n",
       "      <td>0.0280</td>\n",
       "      <td>0.034459</td>\n",
       "      <td>H3K27me3-human</td>\n",
       "      <td>1</td>\n",
       "      <td>narrow</td>\n",
       "      <td>PC-3</td>\n",
       "      <td>1</td>\n",
       "      <td>cancer</td>\n",
       "      <td>0.031230</td>\n",
       "    </tr>\n",
       "    <tr>\n",
       "      <th>4</th>\n",
       "      <td>rs10039204</td>\n",
       "      <td>5</td>\n",
       "      <td>101180077</td>\n",
       "      <td>T</td>\n",
       "      <td>C</td>\n",
       "      <td>NaN</td>\n",
       "      <td>NaN</td>\n",
       "      <td>EZH2-human</td>\n",
       "      <td>1</td>\n",
       "      <td>narrow</td>\n",
       "      <td>PC-3</td>\n",
       "      <td>1</td>\n",
       "      <td>cancer</td>\n",
       "      <td>NaN</td>\n",
       "    </tr>\n",
       "  </tbody>\n",
       "</table>\n",
       "</div>"
      ],
      "text/plain": [
       "        RS_ID chr        pos ref alt  scoreA    scoreB functional_element  \\\n",
       "0  rs10201930   2  189874460   G   A  0.0719  0.065940     H3K36me3-human   \n",
       "1  rs10178969   2  190315723   A   C  0.0657  0.068314         EZH2-human   \n",
       "2  rs10178969   2  190315723   A   C  0.0657  0.068314     H3K36me3-human   \n",
       "3   rs1037532  18   50038602   T   C  0.0280  0.034459     H3K27me3-human   \n",
       "4  rs10039204   5  101180077   T   C     NaN       NaN         EZH2-human   \n",
       "\n",
       "   n_experiment file_type cell_line  cancer_type cell_line_cancer    scoreC  \n",
       "0             1    narrow  prostate            2           normal  0.068920  \n",
       "1             1    narrow      PC-3            1           cancer  0.067007  \n",
       "2             1    narrow      PC-3            1           cancer  0.067007  \n",
       "3             1    narrow      PC-3            1           cancer  0.031230  \n",
       "4             1    narrow      PC-3            1           cancer       NaN  "
      ]
     },
     "execution_count": 14,
     "metadata": {},
     "output_type": "execute_result"
    }
   ],
   "source": [
    "df3.head() # show "
   ]
  },
  {
   "cell_type": "code",
   "execution_count": 15,
   "metadata": {},
   "outputs": [
    {
     "data": {
      "text/plain": [
       "RS_ID                     0\n",
       "chr                       0\n",
       "pos                       0\n",
       "ref                       0\n",
       "alt                       0\n",
       "scoreA                78098\n",
       "scoreB                65044\n",
       "functional_element        0\n",
       "n_experiment              0\n",
       "file_type                 0\n",
       "cell_line                 0\n",
       "cancer_type               0\n",
       "cell_line_cancer          0\n",
       "scoreC                79635\n",
       "dtype: int64"
      ]
     },
     "execution_count": 15,
     "metadata": {},
     "output_type": "execute_result"
    }
   ],
   "source": [
    "df3.isnull().sum() # check now for null values"
   ]
  },
  {
   "cell_type": "markdown",
   "metadata": {},
   "source": [
    "Drop values on scoreA and scoreB, and drop null values of scoreC.\n",
    "\n",
    "Score = **maf score** from TOPmed and from 1000genomes."
   ]
  },
  {
   "cell_type": "code",
   "execution_count": 16,
   "metadata": {},
   "outputs": [
    {
     "data": {
      "text/plain": [
       "Index(['RS_ID', 'chr', 'pos', 'ref', 'alt', 'scoreA', 'scoreB',\n",
       "       'functional_element', 'n_experiment', 'file_type', 'cell_line',\n",
       "       'cancer_type', 'cell_line_cancer', 'scoreC'],\n",
       "      dtype='object')"
      ]
     },
     "execution_count": 16,
     "metadata": {},
     "output_type": "execute_result"
    }
   ],
   "source": [
    "df3.columns"
   ]
  },
  {
   "cell_type": "code",
   "execution_count": 17,
   "metadata": {},
   "outputs": [],
   "source": [
    "df3=df3.drop(['scoreA'], axis=1) # drop values\n",
    "df3=df3.drop(['scoreB'], axis=1) # drop values\n",
    "df3=df3.drop(df3.loc[df3['scoreC'].isnull()].index) # drop null values"
   ]
  },
  {
   "cell_type": "code",
   "execution_count": 18,
   "metadata": {},
   "outputs": [
    {
     "data": {
      "text/plain": [
       "RS_ID                 0\n",
       "chr                   0\n",
       "pos                   0\n",
       "ref                   0\n",
       "alt                   0\n",
       "functional_element    0\n",
       "n_experiment          0\n",
       "file_type             0\n",
       "cell_line             0\n",
       "cancer_type           0\n",
       "cell_line_cancer      0\n",
       "scoreC                0\n",
       "dtype: int64"
      ]
     },
     "execution_count": 18,
     "metadata": {},
     "output_type": "execute_result"
    }
   ],
   "source": [
    "df3.isnull().sum() # Check if there's null values"
   ]
  },
  {
   "cell_type": "code",
   "execution_count": 19,
   "metadata": {
    "scrolled": true
   },
   "outputs": [
    {
     "data": {
      "text/html": [
       "<div>\n",
       "<style scoped>\n",
       "    .dataframe tbody tr th:only-of-type {\n",
       "        vertical-align: middle;\n",
       "    }\n",
       "\n",
       "    .dataframe tbody tr th {\n",
       "        vertical-align: top;\n",
       "    }\n",
       "\n",
       "    .dataframe thead th {\n",
       "        text-align: right;\n",
       "    }\n",
       "</style>\n",
       "<table border=\"1\" class=\"dataframe\">\n",
       "  <thead>\n",
       "    <tr style=\"text-align: right;\">\n",
       "      <th></th>\n",
       "      <th>RS_ID</th>\n",
       "      <th>chr</th>\n",
       "      <th>pos</th>\n",
       "      <th>ref</th>\n",
       "      <th>alt</th>\n",
       "      <th>functional_element</th>\n",
       "      <th>n_experiment</th>\n",
       "      <th>file_type</th>\n",
       "      <th>cell_line</th>\n",
       "      <th>cancer_type</th>\n",
       "      <th>cell_line_cancer</th>\n",
       "      <th>scoreC</th>\n",
       "    </tr>\n",
       "  </thead>\n",
       "  <tbody>\n",
       "    <tr>\n",
       "      <th>0</th>\n",
       "      <td>rs10201930</td>\n",
       "      <td>2</td>\n",
       "      <td>189874460</td>\n",
       "      <td>G</td>\n",
       "      <td>A</td>\n",
       "      <td>H3K36me3-human</td>\n",
       "      <td>1</td>\n",
       "      <td>narrow</td>\n",
       "      <td>prostate</td>\n",
       "      <td>2</td>\n",
       "      <td>normal</td>\n",
       "      <td>0.068920</td>\n",
       "    </tr>\n",
       "    <tr>\n",
       "      <th>1</th>\n",
       "      <td>rs10178969</td>\n",
       "      <td>2</td>\n",
       "      <td>190315723</td>\n",
       "      <td>A</td>\n",
       "      <td>C</td>\n",
       "      <td>EZH2-human</td>\n",
       "      <td>1</td>\n",
       "      <td>narrow</td>\n",
       "      <td>PC-3</td>\n",
       "      <td>1</td>\n",
       "      <td>cancer</td>\n",
       "      <td>0.067007</td>\n",
       "    </tr>\n",
       "    <tr>\n",
       "      <th>2</th>\n",
       "      <td>rs10178969</td>\n",
       "      <td>2</td>\n",
       "      <td>190315723</td>\n",
       "      <td>A</td>\n",
       "      <td>C</td>\n",
       "      <td>H3K36me3-human</td>\n",
       "      <td>1</td>\n",
       "      <td>narrow</td>\n",
       "      <td>PC-3</td>\n",
       "      <td>1</td>\n",
       "      <td>cancer</td>\n",
       "      <td>0.067007</td>\n",
       "    </tr>\n",
       "    <tr>\n",
       "      <th>3</th>\n",
       "      <td>rs1037532</td>\n",
       "      <td>18</td>\n",
       "      <td>50038602</td>\n",
       "      <td>T</td>\n",
       "      <td>C</td>\n",
       "      <td>H3K27me3-human</td>\n",
       "      <td>1</td>\n",
       "      <td>narrow</td>\n",
       "      <td>PC-3</td>\n",
       "      <td>1</td>\n",
       "      <td>cancer</td>\n",
       "      <td>0.031230</td>\n",
       "    </tr>\n",
       "    <tr>\n",
       "      <th>5</th>\n",
       "      <td>rs1002223</td>\n",
       "      <td>7</td>\n",
       "      <td>21172073</td>\n",
       "      <td>A</td>\n",
       "      <td>C</td>\n",
       "      <td>EZH2-human</td>\n",
       "      <td>1</td>\n",
       "      <td>narrow</td>\n",
       "      <td>PC-3</td>\n",
       "      <td>1</td>\n",
       "      <td>cancer</td>\n",
       "      <td>0.301696</td>\n",
       "    </tr>\n",
       "  </tbody>\n",
       "</table>\n",
       "</div>"
      ],
      "text/plain": [
       "        RS_ID chr        pos ref alt functional_element  n_experiment  \\\n",
       "0  rs10201930   2  189874460   G   A     H3K36me3-human             1   \n",
       "1  rs10178969   2  190315723   A   C         EZH2-human             1   \n",
       "2  rs10178969   2  190315723   A   C     H3K36me3-human             1   \n",
       "3   rs1037532  18   50038602   T   C     H3K27me3-human             1   \n",
       "5   rs1002223   7   21172073   A   C         EZH2-human             1   \n",
       "\n",
       "  file_type cell_line  cancer_type cell_line_cancer    scoreC  \n",
       "0    narrow  prostate            2           normal  0.068920  \n",
       "1    narrow      PC-3            1           cancer  0.067007  \n",
       "2    narrow      PC-3            1           cancer  0.067007  \n",
       "3    narrow      PC-3            1           cancer  0.031230  \n",
       "5    narrow      PC-3            1           cancer  0.301696  "
      ]
     },
     "execution_count": 19,
     "metadata": {},
     "output_type": "execute_result"
    }
   ],
   "source": [
    "df3.head()"
   ]
  },
  {
   "cell_type": "markdown",
   "metadata": {},
   "source": [
    "## Feature engineering"
   ]
  },
  {
   "cell_type": "code",
   "execution_count": 20,
   "metadata": {},
   "outputs": [
    {
     "data": {
      "text/plain": [
       "narrow    378298\n",
       "Name: file_type, dtype: int64"
      ]
     },
     "execution_count": 20,
     "metadata": {},
     "output_type": "execute_result"
    }
   ],
   "source": [
    "df3['file_type'].value_counts()"
   ]
  },
  {
   "cell_type": "markdown",
   "metadata": {},
   "source": [
    "I eliminate file_type, because 100% of file_type=='narrow', so it's an useless feature. File_type"
   ]
  },
  {
   "cell_type": "code",
   "execution_count": 21,
   "metadata": {},
   "outputs": [],
   "source": [
    "df3=df3.drop(['file_type'], axis=1)"
   ]
  },
  {
   "cell_type": "markdown",
   "metadata": {},
   "source": [
    "Number of experiment replicate :"
   ]
  },
  {
   "cell_type": "code",
   "execution_count": 22,
   "metadata": {},
   "outputs": [
    {
     "data": {
      "text/plain": [
       "1    351987\n",
       "2     26311\n",
       "Name: n_experiment, dtype: int64"
      ]
     },
     "execution_count": 22,
     "metadata": {},
     "output_type": "execute_result"
    }
   ],
   "source": [
    "df3['n_experiment'].value_counts()"
   ]
  },
  {
   "cell_type": "code",
   "execution_count": 23,
   "metadata": {},
   "outputs": [
    {
     "name": "stdout",
     "output_type": "stream",
     "text": [
      " Number of experiment with 1 replicate =  0.93045 %\n",
      " Number of experiment with 2 replicate =  0.06955 %\n"
     ]
    }
   ],
   "source": [
    "print(' Number of experiment with 1 replicate = ',round(df3['n_experiment'].value_counts()[1]/len(df3),5),'%')\n",
    "print(' Number of experiment with 2 replicate = ',round(df3['n_experiment'].value_counts()[2]/len(df3),5),'%')"
   ]
  },
  {
   "cell_type": "markdown",
   "metadata": {},
   "source": [
    "I drop it, because probably this feature it will be useless to predict prostate cancer due to the majority of 1 replicate. "
   ]
  },
  {
   "cell_type": "code",
   "execution_count": 24,
   "metadata": {},
   "outputs": [],
   "source": [
    "df3=df3.drop(['n_experiment'], axis=1)"
   ]
  },
  {
   "cell_type": "markdown",
   "metadata": {},
   "source": [
    "### Feature engineering chr, pos, RS_ID"
   ]
  },
  {
   "cell_type": "markdown",
   "metadata": {},
   "source": [
    "From: chr, pos, RS_ID I want to identify SNP with just one of those. I choose to modify ID to integer value to label SNP and drop the other two."
   ]
  },
  {
   "cell_type": "code",
   "execution_count": 25,
   "metadata": {},
   "outputs": [],
   "source": [
    "df3=df3.drop(['chr','pos'], axis=1)"
   ]
  },
  {
   "cell_type": "code",
   "execution_count": 26,
   "metadata": {},
   "outputs": [],
   "source": [
    "df4=df3.copy()"
   ]
  },
  {
   "cell_type": "code",
   "execution_count": 27,
   "metadata": {},
   "outputs": [
    {
     "data": {
      "text/html": [
       "<div>\n",
       "<style scoped>\n",
       "    .dataframe tbody tr th:only-of-type {\n",
       "        vertical-align: middle;\n",
       "    }\n",
       "\n",
       "    .dataframe tbody tr th {\n",
       "        vertical-align: top;\n",
       "    }\n",
       "\n",
       "    .dataframe thead th {\n",
       "        text-align: right;\n",
       "    }\n",
       "</style>\n",
       "<table border=\"1\" class=\"dataframe\">\n",
       "  <thead>\n",
       "    <tr style=\"text-align: right;\">\n",
       "      <th></th>\n",
       "      <th>RS_ID</th>\n",
       "      <th>ref</th>\n",
       "      <th>alt</th>\n",
       "      <th>functional_element</th>\n",
       "      <th>cell_line</th>\n",
       "      <th>cancer_type</th>\n",
       "      <th>cell_line_cancer</th>\n",
       "      <th>scoreC</th>\n",
       "    </tr>\n",
       "  </thead>\n",
       "  <tbody>\n",
       "    <tr>\n",
       "      <th>0</th>\n",
       "      <td>rs10201930</td>\n",
       "      <td>G</td>\n",
       "      <td>A</td>\n",
       "      <td>H3K36me3-human</td>\n",
       "      <td>prostate</td>\n",
       "      <td>2</td>\n",
       "      <td>normal</td>\n",
       "      <td>0.068920</td>\n",
       "    </tr>\n",
       "    <tr>\n",
       "      <th>1</th>\n",
       "      <td>rs10178969</td>\n",
       "      <td>A</td>\n",
       "      <td>C</td>\n",
       "      <td>EZH2-human</td>\n",
       "      <td>PC-3</td>\n",
       "      <td>1</td>\n",
       "      <td>cancer</td>\n",
       "      <td>0.067007</td>\n",
       "    </tr>\n",
       "    <tr>\n",
       "      <th>2</th>\n",
       "      <td>rs10178969</td>\n",
       "      <td>A</td>\n",
       "      <td>C</td>\n",
       "      <td>H3K36me3-human</td>\n",
       "      <td>PC-3</td>\n",
       "      <td>1</td>\n",
       "      <td>cancer</td>\n",
       "      <td>0.067007</td>\n",
       "    </tr>\n",
       "    <tr>\n",
       "      <th>3</th>\n",
       "      <td>rs1037532</td>\n",
       "      <td>T</td>\n",
       "      <td>C</td>\n",
       "      <td>H3K27me3-human</td>\n",
       "      <td>PC-3</td>\n",
       "      <td>1</td>\n",
       "      <td>cancer</td>\n",
       "      <td>0.031230</td>\n",
       "    </tr>\n",
       "    <tr>\n",
       "      <th>5</th>\n",
       "      <td>rs1002223</td>\n",
       "      <td>A</td>\n",
       "      <td>C</td>\n",
       "      <td>EZH2-human</td>\n",
       "      <td>PC-3</td>\n",
       "      <td>1</td>\n",
       "      <td>cancer</td>\n",
       "      <td>0.301696</td>\n",
       "    </tr>\n",
       "  </tbody>\n",
       "</table>\n",
       "</div>"
      ],
      "text/plain": [
       "        RS_ID ref alt functional_element cell_line  cancer_type  \\\n",
       "0  rs10201930   G   A     H3K36me3-human  prostate            2   \n",
       "1  rs10178969   A   C         EZH2-human      PC-3            1   \n",
       "2  rs10178969   A   C     H3K36me3-human      PC-3            1   \n",
       "3   rs1037532   T   C     H3K27me3-human      PC-3            1   \n",
       "5   rs1002223   A   C         EZH2-human      PC-3            1   \n",
       "\n",
       "  cell_line_cancer    scoreC  \n",
       "0           normal  0.068920  \n",
       "1           cancer  0.067007  \n",
       "2           cancer  0.067007  \n",
       "3           cancer  0.031230  \n",
       "5           cancer  0.301696  "
      ]
     },
     "execution_count": 27,
     "metadata": {},
     "output_type": "execute_result"
    }
   ],
   "source": [
    "df4.head()"
   ]
  },
  {
   "cell_type": "markdown",
   "metadata": {},
   "source": [
    "Use RS_ID as categorical value to distinguish different SNP.\n",
    "Remove 'rs' from all data in RS_ID and transform the colum from char to integer."
   ]
  },
  {
   "cell_type": "code",
   "execution_count": 28,
   "metadata": {},
   "outputs": [],
   "source": [
    "df4['RS_ID'] = df4['RS_ID'].str.replace(\"rs\",\"\") # replace rs with nothing\n",
    "df4.RS_ID = pd.to_numeric(df4.RS_ID, errors='coerce') # convert rs_id to integer"
   ]
  },
  {
   "cell_type": "code",
   "execution_count": 29,
   "metadata": {
    "scrolled": true
   },
   "outputs": [
    {
     "data": {
      "text/html": [
       "<div>\n",
       "<style scoped>\n",
       "    .dataframe tbody tr th:only-of-type {\n",
       "        vertical-align: middle;\n",
       "    }\n",
       "\n",
       "    .dataframe tbody tr th {\n",
       "        vertical-align: top;\n",
       "    }\n",
       "\n",
       "    .dataframe thead th {\n",
       "        text-align: right;\n",
       "    }\n",
       "</style>\n",
       "<table border=\"1\" class=\"dataframe\">\n",
       "  <thead>\n",
       "    <tr style=\"text-align: right;\">\n",
       "      <th></th>\n",
       "      <th>RS_ID</th>\n",
       "      <th>ref</th>\n",
       "      <th>alt</th>\n",
       "      <th>functional_element</th>\n",
       "      <th>cell_line</th>\n",
       "      <th>cancer_type</th>\n",
       "      <th>cell_line_cancer</th>\n",
       "      <th>scoreC</th>\n",
       "    </tr>\n",
       "  </thead>\n",
       "  <tbody>\n",
       "    <tr>\n",
       "      <th>0</th>\n",
       "      <td>10201930</td>\n",
       "      <td>G</td>\n",
       "      <td>A</td>\n",
       "      <td>H3K36me3-human</td>\n",
       "      <td>prostate</td>\n",
       "      <td>2</td>\n",
       "      <td>normal</td>\n",
       "      <td>0.068920</td>\n",
       "    </tr>\n",
       "    <tr>\n",
       "      <th>1</th>\n",
       "      <td>10178969</td>\n",
       "      <td>A</td>\n",
       "      <td>C</td>\n",
       "      <td>EZH2-human</td>\n",
       "      <td>PC-3</td>\n",
       "      <td>1</td>\n",
       "      <td>cancer</td>\n",
       "      <td>0.067007</td>\n",
       "    </tr>\n",
       "    <tr>\n",
       "      <th>2</th>\n",
       "      <td>10178969</td>\n",
       "      <td>A</td>\n",
       "      <td>C</td>\n",
       "      <td>H3K36me3-human</td>\n",
       "      <td>PC-3</td>\n",
       "      <td>1</td>\n",
       "      <td>cancer</td>\n",
       "      <td>0.067007</td>\n",
       "    </tr>\n",
       "    <tr>\n",
       "      <th>3</th>\n",
       "      <td>1037532</td>\n",
       "      <td>T</td>\n",
       "      <td>C</td>\n",
       "      <td>H3K27me3-human</td>\n",
       "      <td>PC-3</td>\n",
       "      <td>1</td>\n",
       "      <td>cancer</td>\n",
       "      <td>0.031230</td>\n",
       "    </tr>\n",
       "    <tr>\n",
       "      <th>5</th>\n",
       "      <td>1002223</td>\n",
       "      <td>A</td>\n",
       "      <td>C</td>\n",
       "      <td>EZH2-human</td>\n",
       "      <td>PC-3</td>\n",
       "      <td>1</td>\n",
       "      <td>cancer</td>\n",
       "      <td>0.301696</td>\n",
       "    </tr>\n",
       "  </tbody>\n",
       "</table>\n",
       "</div>"
      ],
      "text/plain": [
       "      RS_ID ref alt functional_element cell_line  cancer_type  \\\n",
       "0  10201930   G   A     H3K36me3-human  prostate            2   \n",
       "1  10178969   A   C         EZH2-human      PC-3            1   \n",
       "2  10178969   A   C     H3K36me3-human      PC-3            1   \n",
       "3   1037532   T   C     H3K27me3-human      PC-3            1   \n",
       "5   1002223   A   C         EZH2-human      PC-3            1   \n",
       "\n",
       "  cell_line_cancer    scoreC  \n",
       "0           normal  0.068920  \n",
       "1           cancer  0.067007  \n",
       "2           cancer  0.067007  \n",
       "3           cancer  0.031230  \n",
       "5           cancer  0.301696  "
      ]
     },
     "execution_count": 29,
     "metadata": {},
     "output_type": "execute_result"
    }
   ],
   "source": [
    "df4.head()"
   ]
  },
  {
   "cell_type": "raw",
   "metadata": {},
   "source": [
    "Find the number of different Cell Lines:"
   ]
  },
  {
   "cell_type": "code",
   "execution_count": 30,
   "metadata": {},
   "outputs": [
    {
     "data": {
      "text/plain": [
       "11"
      ]
     },
     "execution_count": 30,
     "metadata": {},
     "output_type": "execute_result"
    }
   ],
   "source": [
    "len(df4['cell_line'].unique()) # different cell lines"
   ]
  },
  {
   "cell_type": "markdown",
   "metadata": {},
   "source": [
    "Find the number of different Functional Elements:"
   ]
  },
  {
   "cell_type": "code",
   "execution_count": 31,
   "metadata": {},
   "outputs": [
    {
     "data": {
      "text/plain": [
       "20"
      ]
     },
     "execution_count": 31,
     "metadata": {},
     "output_type": "execute_result"
    }
   ],
   "source": [
    "len(df4['functional_element'].unique()) # different Functional element"
   ]
  },
  {
   "cell_type": "markdown",
   "metadata": {},
   "source": [
    "### Feature engineering cell_line_cancer"
   ]
  },
  {
   "cell_type": "code",
   "execution_count": 32,
   "metadata": {},
   "outputs": [],
   "source": [
    "df5=df4.copy()"
   ]
  },
  {
   "cell_type": "code",
   "execution_count": 33,
   "metadata": {
    "scrolled": true
   },
   "outputs": [
    {
     "data": {
      "text/html": [
       "<div>\n",
       "<style scoped>\n",
       "    .dataframe tbody tr th:only-of-type {\n",
       "        vertical-align: middle;\n",
       "    }\n",
       "\n",
       "    .dataframe tbody tr th {\n",
       "        vertical-align: top;\n",
       "    }\n",
       "\n",
       "    .dataframe thead th {\n",
       "        text-align: right;\n",
       "    }\n",
       "</style>\n",
       "<table border=\"1\" class=\"dataframe\">\n",
       "  <thead>\n",
       "    <tr style=\"text-align: right;\">\n",
       "      <th></th>\n",
       "      <th>RS_ID</th>\n",
       "      <th>ref</th>\n",
       "      <th>alt</th>\n",
       "      <th>functional_element</th>\n",
       "      <th>cell_line</th>\n",
       "      <th>cancer_type</th>\n",
       "      <th>cell_line_cancer</th>\n",
       "      <th>scoreC</th>\n",
       "    </tr>\n",
       "  </thead>\n",
       "  <tbody>\n",
       "    <tr>\n",
       "      <th>0</th>\n",
       "      <td>10201930</td>\n",
       "      <td>G</td>\n",
       "      <td>A</td>\n",
       "      <td>H3K36me3-human</td>\n",
       "      <td>prostate</td>\n",
       "      <td>2</td>\n",
       "      <td>normal</td>\n",
       "      <td>0.068920</td>\n",
       "    </tr>\n",
       "    <tr>\n",
       "      <th>1</th>\n",
       "      <td>10178969</td>\n",
       "      <td>A</td>\n",
       "      <td>C</td>\n",
       "      <td>EZH2-human</td>\n",
       "      <td>PC-3</td>\n",
       "      <td>1</td>\n",
       "      <td>cancer</td>\n",
       "      <td>0.067007</td>\n",
       "    </tr>\n",
       "    <tr>\n",
       "      <th>2</th>\n",
       "      <td>10178969</td>\n",
       "      <td>A</td>\n",
       "      <td>C</td>\n",
       "      <td>H3K36me3-human</td>\n",
       "      <td>PC-3</td>\n",
       "      <td>1</td>\n",
       "      <td>cancer</td>\n",
       "      <td>0.067007</td>\n",
       "    </tr>\n",
       "    <tr>\n",
       "      <th>3</th>\n",
       "      <td>1037532</td>\n",
       "      <td>T</td>\n",
       "      <td>C</td>\n",
       "      <td>H3K27me3-human</td>\n",
       "      <td>PC-3</td>\n",
       "      <td>1</td>\n",
       "      <td>cancer</td>\n",
       "      <td>0.031230</td>\n",
       "    </tr>\n",
       "    <tr>\n",
       "      <th>5</th>\n",
       "      <td>1002223</td>\n",
       "      <td>A</td>\n",
       "      <td>C</td>\n",
       "      <td>EZH2-human</td>\n",
       "      <td>PC-3</td>\n",
       "      <td>1</td>\n",
       "      <td>cancer</td>\n",
       "      <td>0.301696</td>\n",
       "    </tr>\n",
       "  </tbody>\n",
       "</table>\n",
       "</div>"
      ],
      "text/plain": [
       "      RS_ID ref alt functional_element cell_line  cancer_type  \\\n",
       "0  10201930   G   A     H3K36me3-human  prostate            2   \n",
       "1  10178969   A   C         EZH2-human      PC-3            1   \n",
       "2  10178969   A   C     H3K36me3-human      PC-3            1   \n",
       "3   1037532   T   C     H3K27me3-human      PC-3            1   \n",
       "5   1002223   A   C         EZH2-human      PC-3            1   \n",
       "\n",
       "  cell_line_cancer    scoreC  \n",
       "0           normal  0.068920  \n",
       "1           cancer  0.067007  \n",
       "2           cancer  0.067007  \n",
       "3           cancer  0.031230  \n",
       "5           cancer  0.301696  "
      ]
     },
     "execution_count": 33,
     "metadata": {},
     "output_type": "execute_result"
    }
   ],
   "source": [
    "df5.head()"
   ]
  },
  {
   "cell_type": "markdown",
   "metadata": {},
   "source": [
    "On cell_line_cancer substitute cancer with 1 and normal with 2 "
   ]
  },
  {
   "cell_type": "code",
   "execution_count": 34,
   "metadata": {},
   "outputs": [],
   "source": [
    "df5['cell_line_cancer'] = df5['cell_line_cancer'].str.replace(\"cancer\",\"0\")\n",
    "df5['cell_line_cancer'] = df5['cell_line_cancer'].str.replace(\"normal\",\"1\")\n",
    "df5.cell_line_cancer = pd.to_numeric(df5.cell_line_cancer, errors='coerce')"
   ]
  },
  {
   "cell_type": "code",
   "execution_count": 35,
   "metadata": {
    "scrolled": true
   },
   "outputs": [
    {
     "data": {
      "text/html": [
       "<div>\n",
       "<style scoped>\n",
       "    .dataframe tbody tr th:only-of-type {\n",
       "        vertical-align: middle;\n",
       "    }\n",
       "\n",
       "    .dataframe tbody tr th {\n",
       "        vertical-align: top;\n",
       "    }\n",
       "\n",
       "    .dataframe thead th {\n",
       "        text-align: right;\n",
       "    }\n",
       "</style>\n",
       "<table border=\"1\" class=\"dataframe\">\n",
       "  <thead>\n",
       "    <tr style=\"text-align: right;\">\n",
       "      <th></th>\n",
       "      <th>RS_ID</th>\n",
       "      <th>ref</th>\n",
       "      <th>alt</th>\n",
       "      <th>functional_element</th>\n",
       "      <th>cell_line</th>\n",
       "      <th>cancer_type</th>\n",
       "      <th>cell_line_cancer</th>\n",
       "      <th>scoreC</th>\n",
       "    </tr>\n",
       "  </thead>\n",
       "  <tbody>\n",
       "    <tr>\n",
       "      <th>0</th>\n",
       "      <td>10201930</td>\n",
       "      <td>G</td>\n",
       "      <td>A</td>\n",
       "      <td>H3K36me3-human</td>\n",
       "      <td>prostate</td>\n",
       "      <td>2</td>\n",
       "      <td>2</td>\n",
       "      <td>0.068920</td>\n",
       "    </tr>\n",
       "    <tr>\n",
       "      <th>1</th>\n",
       "      <td>10178969</td>\n",
       "      <td>A</td>\n",
       "      <td>C</td>\n",
       "      <td>EZH2-human</td>\n",
       "      <td>PC-3</td>\n",
       "      <td>1</td>\n",
       "      <td>1</td>\n",
       "      <td>0.067007</td>\n",
       "    </tr>\n",
       "    <tr>\n",
       "      <th>2</th>\n",
       "      <td>10178969</td>\n",
       "      <td>A</td>\n",
       "      <td>C</td>\n",
       "      <td>H3K36me3-human</td>\n",
       "      <td>PC-3</td>\n",
       "      <td>1</td>\n",
       "      <td>1</td>\n",
       "      <td>0.067007</td>\n",
       "    </tr>\n",
       "    <tr>\n",
       "      <th>3</th>\n",
       "      <td>1037532</td>\n",
       "      <td>T</td>\n",
       "      <td>C</td>\n",
       "      <td>H3K27me3-human</td>\n",
       "      <td>PC-3</td>\n",
       "      <td>1</td>\n",
       "      <td>1</td>\n",
       "      <td>0.031230</td>\n",
       "    </tr>\n",
       "    <tr>\n",
       "      <th>5</th>\n",
       "      <td>1002223</td>\n",
       "      <td>A</td>\n",
       "      <td>C</td>\n",
       "      <td>EZH2-human</td>\n",
       "      <td>PC-3</td>\n",
       "      <td>1</td>\n",
       "      <td>1</td>\n",
       "      <td>0.301696</td>\n",
       "    </tr>\n",
       "  </tbody>\n",
       "</table>\n",
       "</div>"
      ],
      "text/plain": [
       "      RS_ID ref alt functional_element cell_line  cancer_type  \\\n",
       "0  10201930   G   A     H3K36me3-human  prostate            2   \n",
       "1  10178969   A   C         EZH2-human      PC-3            1   \n",
       "2  10178969   A   C     H3K36me3-human      PC-3            1   \n",
       "3   1037532   T   C     H3K27me3-human      PC-3            1   \n",
       "5   1002223   A   C         EZH2-human      PC-3            1   \n",
       "\n",
       "   cell_line_cancer    scoreC  \n",
       "0                 2  0.068920  \n",
       "1                 1  0.067007  \n",
       "2                 1  0.067007  \n",
       "3                 1  0.031230  \n",
       "5                 1  0.301696  "
      ]
     },
     "execution_count": 35,
     "metadata": {},
     "output_type": "execute_result"
    }
   ],
   "source": [
    "df5.head()"
   ]
  },
  {
   "cell_type": "markdown",
   "metadata": {},
   "source": [
    "### Nucleotide feature engineering"
   ]
  },
  {
   "cell_type": "code",
   "execution_count": 36,
   "metadata": {},
   "outputs": [],
   "source": [
    "# REFERENCE\n",
    "df5['ref'] = df5['ref'].str.replace(\"T\",\"1\") # T=1\n",
    "df5['ref'] = df5['ref'].str.replace(\"C\",\"2\") # C=2\n",
    "df5['ref'] = df5['ref'].str.replace(\"A\",\"3\") # A=3\n",
    "df5['ref'] = df5['ref'].str.replace(\"G\",\"4\") # G=4\n",
    "\n",
    "# ALTERNATIVE (mutated)\n",
    "df5['alt'] = df5['alt'].str.replace(\"T\",\"1\") \n",
    "df5['alt'] = df5['alt'].str.replace(\"C\",\"2\")\n",
    "df5['alt'] = df5['alt'].str.replace(\"A\",\"3\")\n",
    "df5['alt'] = df5['alt'].str.replace(\"G\",\"4\")\n",
    "\n",
    "# transform Nucleotide label into integer\n",
    "df5.alt = pd.to_numeric(df5.alt, errors='coerce')\n",
    "df5.ref = pd.to_numeric(df5.ref, errors='coerce')\n"
   ]
  },
  {
   "cell_type": "code",
   "execution_count": 37,
   "metadata": {},
   "outputs": [
    {
     "data": {
      "text/html": [
       "<div>\n",
       "<style scoped>\n",
       "    .dataframe tbody tr th:only-of-type {\n",
       "        vertical-align: middle;\n",
       "    }\n",
       "\n",
       "    .dataframe tbody tr th {\n",
       "        vertical-align: top;\n",
       "    }\n",
       "\n",
       "    .dataframe thead th {\n",
       "        text-align: right;\n",
       "    }\n",
       "</style>\n",
       "<table border=\"1\" class=\"dataframe\">\n",
       "  <thead>\n",
       "    <tr style=\"text-align: right;\">\n",
       "      <th></th>\n",
       "      <th>RS_ID</th>\n",
       "      <th>ref</th>\n",
       "      <th>alt</th>\n",
       "      <th>functional_element</th>\n",
       "      <th>cell_line</th>\n",
       "      <th>cancer_type</th>\n",
       "      <th>cell_line_cancer</th>\n",
       "      <th>scoreC</th>\n",
       "    </tr>\n",
       "  </thead>\n",
       "  <tbody>\n",
       "    <tr>\n",
       "      <th>0</th>\n",
       "      <td>10201930</td>\n",
       "      <td>4</td>\n",
       "      <td>3</td>\n",
       "      <td>H3K36me3-human</td>\n",
       "      <td>prostate</td>\n",
       "      <td>2</td>\n",
       "      <td>2</td>\n",
       "      <td>0.068920</td>\n",
       "    </tr>\n",
       "    <tr>\n",
       "      <th>1</th>\n",
       "      <td>10178969</td>\n",
       "      <td>3</td>\n",
       "      <td>2</td>\n",
       "      <td>EZH2-human</td>\n",
       "      <td>PC-3</td>\n",
       "      <td>1</td>\n",
       "      <td>1</td>\n",
       "      <td>0.067007</td>\n",
       "    </tr>\n",
       "    <tr>\n",
       "      <th>2</th>\n",
       "      <td>10178969</td>\n",
       "      <td>3</td>\n",
       "      <td>2</td>\n",
       "      <td>H3K36me3-human</td>\n",
       "      <td>PC-3</td>\n",
       "      <td>1</td>\n",
       "      <td>1</td>\n",
       "      <td>0.067007</td>\n",
       "    </tr>\n",
       "    <tr>\n",
       "      <th>3</th>\n",
       "      <td>1037532</td>\n",
       "      <td>1</td>\n",
       "      <td>2</td>\n",
       "      <td>H3K27me3-human</td>\n",
       "      <td>PC-3</td>\n",
       "      <td>1</td>\n",
       "      <td>1</td>\n",
       "      <td>0.031230</td>\n",
       "    </tr>\n",
       "    <tr>\n",
       "      <th>5</th>\n",
       "      <td>1002223</td>\n",
       "      <td>3</td>\n",
       "      <td>2</td>\n",
       "      <td>EZH2-human</td>\n",
       "      <td>PC-3</td>\n",
       "      <td>1</td>\n",
       "      <td>1</td>\n",
       "      <td>0.301696</td>\n",
       "    </tr>\n",
       "  </tbody>\n",
       "</table>\n",
       "</div>"
      ],
      "text/plain": [
       "      RS_ID  ref  alt functional_element cell_line  cancer_type  \\\n",
       "0  10201930    4    3     H3K36me3-human  prostate            2   \n",
       "1  10178969    3    2         EZH2-human      PC-3            1   \n",
       "2  10178969    3    2     H3K36me3-human      PC-3            1   \n",
       "3   1037532    1    2     H3K27me3-human      PC-3            1   \n",
       "5   1002223    3    2         EZH2-human      PC-3            1   \n",
       "\n",
       "   cell_line_cancer    scoreC  \n",
       "0                 2  0.068920  \n",
       "1                 1  0.067007  \n",
       "2                 1  0.067007  \n",
       "3                 1  0.031230  \n",
       "5                 1  0.301696  "
      ]
     },
     "execution_count": 37,
     "metadata": {},
     "output_type": "execute_result"
    }
   ],
   "source": [
    "df5.head()"
   ]
  },
  {
   "cell_type": "code",
   "execution_count": 38,
   "metadata": {},
   "outputs": [],
   "source": [
    "df6=df5.copy()"
   ]
  },
  {
   "cell_type": "markdown",
   "metadata": {},
   "source": [
    "### Feature engineering cell_line\n",
    "I want to transform each name of cell_line into an integer."
   ]
  },
  {
   "cell_type": "code",
   "execution_count": 39,
   "metadata": {},
   "outputs": [
    {
     "name": "stdout",
     "output_type": "stream",
     "text": [
      "['prostate', 'PC-3', 'prostate gland', '22Rv1', 'C4-2B', 'epithelial cell of prostate', 'LNCaP clone FGC', 'VCaP', 'RWPE1', 'LNCAP', 'RWPE2']\n"
     ]
    }
   ],
   "source": [
    "list_name_cell_line=list(df6['cell_line'].unique() )\n",
    "print(list_name_cell_line)"
   ]
  },
  {
   "cell_type": "code",
   "execution_count": 40,
   "metadata": {},
   "outputs": [],
   "source": [
    "df6['cell_line']=df6['cell_line'].replace(to_replace=list_name_cell_line , value=range(len(list_name_cell_line))) "
   ]
  },
  {
   "cell_type": "code",
   "execution_count": 41,
   "metadata": {},
   "outputs": [
    {
     "data": {
      "text/html": [
       "<div>\n",
       "<style scoped>\n",
       "    .dataframe tbody tr th:only-of-type {\n",
       "        vertical-align: middle;\n",
       "    }\n",
       "\n",
       "    .dataframe tbody tr th {\n",
       "        vertical-align: top;\n",
       "    }\n",
       "\n",
       "    .dataframe thead th {\n",
       "        text-align: right;\n",
       "    }\n",
       "</style>\n",
       "<table border=\"1\" class=\"dataframe\">\n",
       "  <thead>\n",
       "    <tr style=\"text-align: right;\">\n",
       "      <th></th>\n",
       "      <th>RS_ID</th>\n",
       "      <th>ref</th>\n",
       "      <th>alt</th>\n",
       "      <th>functional_element</th>\n",
       "      <th>cell_line</th>\n",
       "      <th>cancer_type</th>\n",
       "      <th>cell_line_cancer</th>\n",
       "      <th>scoreC</th>\n",
       "    </tr>\n",
       "  </thead>\n",
       "  <tbody>\n",
       "    <tr>\n",
       "      <th>0</th>\n",
       "      <td>10201930</td>\n",
       "      <td>4</td>\n",
       "      <td>3</td>\n",
       "      <td>H3K36me3-human</td>\n",
       "      <td>0</td>\n",
       "      <td>2</td>\n",
       "      <td>2</td>\n",
       "      <td>0.068920</td>\n",
       "    </tr>\n",
       "    <tr>\n",
       "      <th>1</th>\n",
       "      <td>10178969</td>\n",
       "      <td>3</td>\n",
       "      <td>2</td>\n",
       "      <td>EZH2-human</td>\n",
       "      <td>1</td>\n",
       "      <td>1</td>\n",
       "      <td>1</td>\n",
       "      <td>0.067007</td>\n",
       "    </tr>\n",
       "    <tr>\n",
       "      <th>2</th>\n",
       "      <td>10178969</td>\n",
       "      <td>3</td>\n",
       "      <td>2</td>\n",
       "      <td>H3K36me3-human</td>\n",
       "      <td>1</td>\n",
       "      <td>1</td>\n",
       "      <td>1</td>\n",
       "      <td>0.067007</td>\n",
       "    </tr>\n",
       "    <tr>\n",
       "      <th>3</th>\n",
       "      <td>1037532</td>\n",
       "      <td>1</td>\n",
       "      <td>2</td>\n",
       "      <td>H3K27me3-human</td>\n",
       "      <td>1</td>\n",
       "      <td>1</td>\n",
       "      <td>1</td>\n",
       "      <td>0.031230</td>\n",
       "    </tr>\n",
       "    <tr>\n",
       "      <th>5</th>\n",
       "      <td>1002223</td>\n",
       "      <td>3</td>\n",
       "      <td>2</td>\n",
       "      <td>EZH2-human</td>\n",
       "      <td>1</td>\n",
       "      <td>1</td>\n",
       "      <td>1</td>\n",
       "      <td>0.301696</td>\n",
       "    </tr>\n",
       "  </tbody>\n",
       "</table>\n",
       "</div>"
      ],
      "text/plain": [
       "      RS_ID  ref  alt functional_element  cell_line  cancer_type  \\\n",
       "0  10201930    4    3     H3K36me3-human          0            2   \n",
       "1  10178969    3    2         EZH2-human          1            1   \n",
       "2  10178969    3    2     H3K36me3-human          1            1   \n",
       "3   1037532    1    2     H3K27me3-human          1            1   \n",
       "5   1002223    3    2         EZH2-human          1            1   \n",
       "\n",
       "   cell_line_cancer    scoreC  \n",
       "0                 2  0.068920  \n",
       "1                 1  0.067007  \n",
       "2                 1  0.067007  \n",
       "3                 1  0.031230  \n",
       "5                 1  0.301696  "
      ]
     },
     "execution_count": 41,
     "metadata": {},
     "output_type": "execute_result"
    }
   ],
   "source": [
    "df6.head()"
   ]
  },
  {
   "cell_type": "markdown",
   "metadata": {},
   "source": [
    "### Feature engineering functional_element\n",
    "I want to transform each name of functional_element into an integer."
   ]
  },
  {
   "cell_type": "code",
   "execution_count": 42,
   "metadata": {},
   "outputs": [],
   "source": [
    "df7=df6.copy()"
   ]
  },
  {
   "cell_type": "code",
   "execution_count": 43,
   "metadata": {},
   "outputs": [
    {
     "name": "stdout",
     "output_type": "stream",
     "text": [
      "['H3K36me3-human', 'EZH2-human', 'H3K27me3-human', 'POLR2A-human', 'EP300-human', 'CTCF-human', 'H3K27ac-human', 'H3K4me3-human', 'H3K4me1-human', 'H3K4me2-human', 'H3K79me2-human', 'H3K9ac-human', 'H4K20me1-human', 'POLR2AphosphoS5-human', 'ZFX-human', 'H2AFZ-human', 'H3F3A-human', 'H3K9me3-human', 'EZH2phosphoT487-human', 'H3K9me2-human']\n"
     ]
    }
   ],
   "source": [
    "list_name_functional_element=list(df7['functional_element'].unique() )\n",
    "print(list_name_functional_element)"
   ]
  },
  {
   "cell_type": "code",
   "execution_count": 44,
   "metadata": {},
   "outputs": [],
   "source": [
    "df7['functional_element']=df7['functional_element'].replace(to_replace=list_name_functional_element , value=range(len(list_name_functional_element))) "
   ]
  },
  {
   "cell_type": "code",
   "execution_count": 45,
   "metadata": {},
   "outputs": [
    {
     "data": {
      "text/html": [
       "<div>\n",
       "<style scoped>\n",
       "    .dataframe tbody tr th:only-of-type {\n",
       "        vertical-align: middle;\n",
       "    }\n",
       "\n",
       "    .dataframe tbody tr th {\n",
       "        vertical-align: top;\n",
       "    }\n",
       "\n",
       "    .dataframe thead th {\n",
       "        text-align: right;\n",
       "    }\n",
       "</style>\n",
       "<table border=\"1\" class=\"dataframe\">\n",
       "  <thead>\n",
       "    <tr style=\"text-align: right;\">\n",
       "      <th></th>\n",
       "      <th>RS_ID</th>\n",
       "      <th>ref</th>\n",
       "      <th>alt</th>\n",
       "      <th>functional_element</th>\n",
       "      <th>cell_line</th>\n",
       "      <th>cancer_type</th>\n",
       "      <th>cell_line_cancer</th>\n",
       "      <th>scoreC</th>\n",
       "    </tr>\n",
       "  </thead>\n",
       "  <tbody>\n",
       "    <tr>\n",
       "      <th>0</th>\n",
       "      <td>10201930</td>\n",
       "      <td>4</td>\n",
       "      <td>3</td>\n",
       "      <td>0</td>\n",
       "      <td>0</td>\n",
       "      <td>2</td>\n",
       "      <td>2</td>\n",
       "      <td>0.068920</td>\n",
       "    </tr>\n",
       "    <tr>\n",
       "      <th>1</th>\n",
       "      <td>10178969</td>\n",
       "      <td>3</td>\n",
       "      <td>2</td>\n",
       "      <td>1</td>\n",
       "      <td>1</td>\n",
       "      <td>1</td>\n",
       "      <td>1</td>\n",
       "      <td>0.067007</td>\n",
       "    </tr>\n",
       "    <tr>\n",
       "      <th>2</th>\n",
       "      <td>10178969</td>\n",
       "      <td>3</td>\n",
       "      <td>2</td>\n",
       "      <td>0</td>\n",
       "      <td>1</td>\n",
       "      <td>1</td>\n",
       "      <td>1</td>\n",
       "      <td>0.067007</td>\n",
       "    </tr>\n",
       "    <tr>\n",
       "      <th>3</th>\n",
       "      <td>1037532</td>\n",
       "      <td>1</td>\n",
       "      <td>2</td>\n",
       "      <td>2</td>\n",
       "      <td>1</td>\n",
       "      <td>1</td>\n",
       "      <td>1</td>\n",
       "      <td>0.031230</td>\n",
       "    </tr>\n",
       "    <tr>\n",
       "      <th>5</th>\n",
       "      <td>1002223</td>\n",
       "      <td>3</td>\n",
       "      <td>2</td>\n",
       "      <td>1</td>\n",
       "      <td>1</td>\n",
       "      <td>1</td>\n",
       "      <td>1</td>\n",
       "      <td>0.301696</td>\n",
       "    </tr>\n",
       "  </tbody>\n",
       "</table>\n",
       "</div>"
      ],
      "text/plain": [
       "      RS_ID  ref  alt  functional_element  cell_line  cancer_type  \\\n",
       "0  10201930    4    3                   0          0            2   \n",
       "1  10178969    3    2                   1          1            1   \n",
       "2  10178969    3    2                   0          1            1   \n",
       "3   1037532    1    2                   2          1            1   \n",
       "5   1002223    3    2                   1          1            1   \n",
       "\n",
       "   cell_line_cancer    scoreC  \n",
       "0                 2  0.068920  \n",
       "1                 1  0.067007  \n",
       "2                 1  0.067007  \n",
       "3                 1  0.031230  \n",
       "5                 1  0.301696  "
      ]
     },
     "execution_count": 45,
     "metadata": {},
     "output_type": "execute_result"
    }
   ],
   "source": [
    "df7.head()"
   ]
  },
  {
   "cell_type": "markdown",
   "metadata": {},
   "source": [
    "Really I don't know if ref and alt serves to the scope as RS_ID identify both nucleotide, the reference and the mutated one, but I keep it."
   ]
  },
  {
   "cell_type": "markdown",
   "metadata": {},
   "source": [
    "I want to predict if a normal cell line with such SNPs mutation is a prostate cancer.\n",
    "Predict cancer_type with cell_line_cancer = 'normal' (2).\n",
    "So I drop out all cell_line_cancer==1 (because they are already cancer).\n",
    "\n",
    "    **Prediction**\n",
    "label=( not-protate-cancer , prostate-cancer ) \n",
    "using just non-cancer cell line\n"
   ]
  },
  {
   "cell_type": "markdown",
   "metadata": {},
   "source": [
    "#### Drop \n",
    "Drop out all cell_line_cancer==1 (that is cancer)\n",
    "(I could do it before) "
   ]
  },
  {
   "cell_type": "code",
   "execution_count": 46,
   "metadata": {},
   "outputs": [
    {
     "data": {
      "text/html": [
       "<div>\n",
       "<style scoped>\n",
       "    .dataframe tbody tr th:only-of-type {\n",
       "        vertical-align: middle;\n",
       "    }\n",
       "\n",
       "    .dataframe tbody tr th {\n",
       "        vertical-align: top;\n",
       "    }\n",
       "\n",
       "    .dataframe thead th {\n",
       "        text-align: right;\n",
       "    }\n",
       "</style>\n",
       "<table border=\"1\" class=\"dataframe\">\n",
       "  <thead>\n",
       "    <tr style=\"text-align: right;\">\n",
       "      <th></th>\n",
       "      <th>RS_ID</th>\n",
       "      <th>ref</th>\n",
       "      <th>alt</th>\n",
       "      <th>functional_element</th>\n",
       "      <th>cell_line</th>\n",
       "      <th>cancer_type</th>\n",
       "      <th>cell_line_cancer</th>\n",
       "      <th>scoreC</th>\n",
       "    </tr>\n",
       "  </thead>\n",
       "  <tbody>\n",
       "    <tr>\n",
       "      <th>0</th>\n",
       "      <td>10201930</td>\n",
       "      <td>4</td>\n",
       "      <td>3</td>\n",
       "      <td>0</td>\n",
       "      <td>0</td>\n",
       "      <td>2</td>\n",
       "      <td>2</td>\n",
       "      <td>0.068920</td>\n",
       "    </tr>\n",
       "    <tr>\n",
       "      <th>1</th>\n",
       "      <td>10178969</td>\n",
       "      <td>3</td>\n",
       "      <td>2</td>\n",
       "      <td>1</td>\n",
       "      <td>1</td>\n",
       "      <td>1</td>\n",
       "      <td>1</td>\n",
       "      <td>0.067007</td>\n",
       "    </tr>\n",
       "    <tr>\n",
       "      <th>2</th>\n",
       "      <td>10178969</td>\n",
       "      <td>3</td>\n",
       "      <td>2</td>\n",
       "      <td>0</td>\n",
       "      <td>1</td>\n",
       "      <td>1</td>\n",
       "      <td>1</td>\n",
       "      <td>0.067007</td>\n",
       "    </tr>\n",
       "    <tr>\n",
       "      <th>3</th>\n",
       "      <td>1037532</td>\n",
       "      <td>1</td>\n",
       "      <td>2</td>\n",
       "      <td>2</td>\n",
       "      <td>1</td>\n",
       "      <td>1</td>\n",
       "      <td>1</td>\n",
       "      <td>0.031230</td>\n",
       "    </tr>\n",
       "    <tr>\n",
       "      <th>5</th>\n",
       "      <td>1002223</td>\n",
       "      <td>3</td>\n",
       "      <td>2</td>\n",
       "      <td>1</td>\n",
       "      <td>1</td>\n",
       "      <td>1</td>\n",
       "      <td>1</td>\n",
       "      <td>0.301696</td>\n",
       "    </tr>\n",
       "  </tbody>\n",
       "</table>\n",
       "</div>"
      ],
      "text/plain": [
       "      RS_ID  ref  alt  functional_element  cell_line  cancer_type  \\\n",
       "0  10201930    4    3                   0          0            2   \n",
       "1  10178969    3    2                   1          1            1   \n",
       "2  10178969    3    2                   0          1            1   \n",
       "3   1037532    1    2                   2          1            1   \n",
       "5   1002223    3    2                   1          1            1   \n",
       "\n",
       "   cell_line_cancer    scoreC  \n",
       "0                 2  0.068920  \n",
       "1                 1  0.067007  \n",
       "2                 1  0.067007  \n",
       "3                 1  0.031230  \n",
       "5                 1  0.301696  "
      ]
     },
     "execution_count": 46,
     "metadata": {},
     "output_type": "execute_result"
    }
   ],
   "source": [
    "df7.head()"
   ]
  },
  {
   "cell_type": "code",
   "execution_count": 47,
   "metadata": {},
   "outputs": [],
   "source": [
    "df7 = df7.drop(df7[df7.cell_line_cancer == 1].index)"
   ]
  },
  {
   "cell_type": "code",
   "execution_count": 48,
   "metadata": {},
   "outputs": [
    {
     "data": {
      "text/html": [
       "<div>\n",
       "<style scoped>\n",
       "    .dataframe tbody tr th:only-of-type {\n",
       "        vertical-align: middle;\n",
       "    }\n",
       "\n",
       "    .dataframe tbody tr th {\n",
       "        vertical-align: top;\n",
       "    }\n",
       "\n",
       "    .dataframe thead th {\n",
       "        text-align: right;\n",
       "    }\n",
       "</style>\n",
       "<table border=\"1\" class=\"dataframe\">\n",
       "  <thead>\n",
       "    <tr style=\"text-align: right;\">\n",
       "      <th></th>\n",
       "      <th>RS_ID</th>\n",
       "      <th>ref</th>\n",
       "      <th>alt</th>\n",
       "      <th>functional_element</th>\n",
       "      <th>cell_line</th>\n",
       "      <th>cancer_type</th>\n",
       "      <th>cell_line_cancer</th>\n",
       "      <th>scoreC</th>\n",
       "    </tr>\n",
       "  </thead>\n",
       "  <tbody>\n",
       "    <tr>\n",
       "      <th>0</th>\n",
       "      <td>10201930</td>\n",
       "      <td>4</td>\n",
       "      <td>3</td>\n",
       "      <td>0</td>\n",
       "      <td>0</td>\n",
       "      <td>2</td>\n",
       "      <td>2</td>\n",
       "      <td>0.068920</td>\n",
       "    </tr>\n",
       "    <tr>\n",
       "      <th>6</th>\n",
       "      <td>1002223</td>\n",
       "      <td>3</td>\n",
       "      <td>2</td>\n",
       "      <td>3</td>\n",
       "      <td>2</td>\n",
       "      <td>2</td>\n",
       "      <td>2</td>\n",
       "      <td>0.301696</td>\n",
       "    </tr>\n",
       "    <tr>\n",
       "      <th>8</th>\n",
       "      <td>1037280</td>\n",
       "      <td>2</td>\n",
       "      <td>1</td>\n",
       "      <td>4</td>\n",
       "      <td>2</td>\n",
       "      <td>2</td>\n",
       "      <td>2</td>\n",
       "      <td>0.240341</td>\n",
       "    </tr>\n",
       "    <tr>\n",
       "      <th>9</th>\n",
       "      <td>10032255</td>\n",
       "      <td>1</td>\n",
       "      <td>4</td>\n",
       "      <td>5</td>\n",
       "      <td>2</td>\n",
       "      <td>2</td>\n",
       "      <td>2</td>\n",
       "      <td>0.119516</td>\n",
       "    </tr>\n",
       "    <tr>\n",
       "      <th>13</th>\n",
       "      <td>10103239</td>\n",
       "      <td>3</td>\n",
       "      <td>4</td>\n",
       "      <td>6</td>\n",
       "      <td>5</td>\n",
       "      <td>2</td>\n",
       "      <td>2</td>\n",
       "      <td>0.012565</td>\n",
       "    </tr>\n",
       "  </tbody>\n",
       "</table>\n",
       "</div>"
      ],
      "text/plain": [
       "       RS_ID  ref  alt  functional_element  cell_line  cancer_type  \\\n",
       "0   10201930    4    3                   0          0            2   \n",
       "6    1002223    3    2                   3          2            2   \n",
       "8    1037280    2    1                   4          2            2   \n",
       "9   10032255    1    4                   5          2            2   \n",
       "13  10103239    3    4                   6          5            2   \n",
       "\n",
       "    cell_line_cancer    scoreC  \n",
       "0                  2  0.068920  \n",
       "6                  2  0.301696  \n",
       "8                  2  0.240341  \n",
       "9                  2  0.119516  \n",
       "13                 2  0.012565  "
      ]
     },
     "execution_count": 48,
     "metadata": {},
     "output_type": "execute_result"
    }
   ],
   "source": [
    "df7.head()"
   ]
  },
  {
   "cell_type": "markdown",
   "metadata": {},
   "source": [
    "Drop cell_line_cancer column because it's all from 'normal cell line'"
   ]
  },
  {
   "cell_type": "code",
   "execution_count": 49,
   "metadata": {},
   "outputs": [],
   "source": [
    "df7=df7.drop(['cell_line_cancer'], axis=1) # drop values"
   ]
  },
  {
   "cell_type": "code",
   "execution_count": 50,
   "metadata": {},
   "outputs": [],
   "source": [
    "df8=df7.copy()"
   ]
  },
  {
   "cell_type": "code",
   "execution_count": 51,
   "metadata": {},
   "outputs": [
    {
     "data": {
      "text/html": [
       "<div>\n",
       "<style scoped>\n",
       "    .dataframe tbody tr th:only-of-type {\n",
       "        vertical-align: middle;\n",
       "    }\n",
       "\n",
       "    .dataframe tbody tr th {\n",
       "        vertical-align: top;\n",
       "    }\n",
       "\n",
       "    .dataframe thead th {\n",
       "        text-align: right;\n",
       "    }\n",
       "</style>\n",
       "<table border=\"1\" class=\"dataframe\">\n",
       "  <thead>\n",
       "    <tr style=\"text-align: right;\">\n",
       "      <th></th>\n",
       "      <th>RS_ID</th>\n",
       "      <th>ref</th>\n",
       "      <th>alt</th>\n",
       "      <th>functional_element</th>\n",
       "      <th>cell_line</th>\n",
       "      <th>cancer_type</th>\n",
       "      <th>scoreC</th>\n",
       "    </tr>\n",
       "  </thead>\n",
       "  <tbody>\n",
       "    <tr>\n",
       "      <th>457927</th>\n",
       "      <td>997633</td>\n",
       "      <td>3</td>\n",
       "      <td>1</td>\n",
       "      <td>5</td>\n",
       "      <td>2</td>\n",
       "      <td>2</td>\n",
       "      <td>0.108865</td>\n",
       "    </tr>\n",
       "    <tr>\n",
       "      <th>457928</th>\n",
       "      <td>997633</td>\n",
       "      <td>3</td>\n",
       "      <td>1</td>\n",
       "      <td>5</td>\n",
       "      <td>8</td>\n",
       "      <td>1</td>\n",
       "      <td>0.108865</td>\n",
       "    </tr>\n",
       "    <tr>\n",
       "      <th>457929</th>\n",
       "      <td>997633</td>\n",
       "      <td>3</td>\n",
       "      <td>1</td>\n",
       "      <td>5</td>\n",
       "      <td>10</td>\n",
       "      <td>1</td>\n",
       "      <td>0.108865</td>\n",
       "    </tr>\n",
       "    <tr>\n",
       "      <th>457931</th>\n",
       "      <td>997633</td>\n",
       "      <td>3</td>\n",
       "      <td>1</td>\n",
       "      <td>4</td>\n",
       "      <td>2</td>\n",
       "      <td>2</td>\n",
       "      <td>0.108865</td>\n",
       "    </tr>\n",
       "    <tr>\n",
       "      <th>457932</th>\n",
       "      <td>997633</td>\n",
       "      <td>3</td>\n",
       "      <td>1</td>\n",
       "      <td>13</td>\n",
       "      <td>2</td>\n",
       "      <td>2</td>\n",
       "      <td>0.108865</td>\n",
       "    </tr>\n",
       "  </tbody>\n",
       "</table>\n",
       "</div>"
      ],
      "text/plain": [
       "         RS_ID  ref  alt  functional_element  cell_line  cancer_type    scoreC\n",
       "457927  997633    3    1                   5          2            2  0.108865\n",
       "457928  997633    3    1                   5          8            1  0.108865\n",
       "457929  997633    3    1                   5         10            1  0.108865\n",
       "457931  997633    3    1                   4          2            2  0.108865\n",
       "457932  997633    3    1                  13          2            2  0.108865"
      ]
     },
     "execution_count": 51,
     "metadata": {},
     "output_type": "execute_result"
    }
   ],
   "source": [
    "df8.tail()"
   ]
  },
  {
   "cell_type": "code",
   "execution_count": 99,
   "metadata": {},
   "outputs": [
    {
     "name": "stdout",
     "output_type": "stream",
     "text": [
      "0\n",
      "0\n",
      "0\n",
      "0\n",
      "0\n",
      "0\n",
      "0\n"
     ]
    }
   ],
   "source": [
    "df8.isnull().sum() # no null value"
   ]
  },
  {
   "cell_type": "markdown",
   "metadata": {},
   "source": [
    "### Machine learning with TensorFlow.Keras\n",
    "#### Recurrent Neural Networks (LSTM / RNN)"
   ]
  },
  {
   "cell_type": "code",
   "execution_count": 53,
   "metadata": {},
   "outputs": [],
   "source": [
    "import numpy as np\n",
    "import tensorflow as tf\n",
    "from tensorflow.keras.models import Sequential\n",
    "from tensorflow.keras.layers import Dense, Dropout"
   ]
  },
  {
   "cell_type": "code",
   "execution_count": 54,
   "metadata": {
    "scrolled": true
   },
   "outputs": [
    {
     "name": "stdout",
     "output_type": "stream",
     "text": [
      "2.0.0\n"
     ]
    }
   ],
   "source": [
    "print(tf.__version__) # version of TensorFlow"
   ]
  },
  {
   "cell_type": "code",
   "execution_count": 55,
   "metadata": {},
   "outputs": [],
   "source": [
    "# Machine Learning data model\n",
    "\n",
    "EPOCHS = 3\n",
    "\n",
    "BATCH_SIZE = 16\n",
    "\n",
    "P_train = 0.75 # percenteage of train = (1-P_test)\n"
   ]
  },
  {
   "cell_type": "markdown",
   "metadata": {},
   "source": [
    "#### DF length"
   ]
  },
  {
   "cell_type": "code",
   "execution_count": 56,
   "metadata": {},
   "outputs": [
    {
     "name": "stdout",
     "output_type": "stream",
     "text": [
      "186093\n"
     ]
    }
   ],
   "source": [
    "LEN=len(df8) \n",
    "print(len(df8))"
   ]
  },
  {
   "cell_type": "markdown",
   "metadata": {},
   "source": [
    "#### Select features for Input"
   ]
  },
  {
   "cell_type": "code",
   "execution_count": 57,
   "metadata": {},
   "outputs": [],
   "source": [
    "df9=df8.copy()"
   ]
  },
  {
   "cell_type": "code",
   "execution_count": 94,
   "metadata": {},
   "outputs": [
    {
     "data": {
      "text/plain": [
       "RS_ID                   int64\n",
       "ref                     int64\n",
       "alt                     int64\n",
       "functional_element      int64\n",
       "cell_line               int64\n",
       "cancer_type             int64\n",
       "scoreC                float64\n",
       "dtype: object"
      ]
     },
     "execution_count": 94,
     "metadata": {},
     "output_type": "execute_result"
    }
   ],
   "source": [
    "df8.dtypes # check if are all numbers (int or float)"
   ]
  },
  {
   "cell_type": "code",
   "execution_count": 97,
   "metadata": {},
   "outputs": [
    {
     "data": {
      "text/plain": [
       "array([ 0,  2,  5,  8, 10])"
      ]
     },
     "execution_count": 97,
     "metadata": {},
     "output_type": "execute_result"
    }
   ],
   "source": [
    "list_of_cell_lines = df8['cell_line'].unique()"
   ]
  },
  {
   "cell_type": "code",
   "execution_count": 81,
   "metadata": {},
   "outputs": [],
   "source": [
    "df_data = df9[['RS_ID','ref','alt','scoreC']] # actual model"
   ]
  },
  {
   "cell_type": "markdown",
   "metadata": {},
   "source": [
    "#### Data features for ML "
   ]
  },
  {
   "cell_type": "code",
   "execution_count": 93,
   "metadata": {},
   "outputs": [],
   "source": [
    "#df_data = df9[['RS_ID','ref','alt','scoreC']]             #  model 1 | accuracy ~ 20%\n",
    "#df_data = df8[['RS_ID','ref','alt','cell_line','scoreC']]  #  model 2 | accuracy ~ 23%\n",
    "df_data = df8[['RS_ID','ref','alt','functional_element','cell_line','scoreC']]  # model 3 | accuracy ~ 23%"
   ]
  },
  {
   "cell_type": "code",
   "execution_count": 83,
   "metadata": {},
   "outputs": [],
   "source": [
    "NUM_features =len(df_data.iloc[0])"
   ]
  },
  {
   "cell_type": "code",
   "execution_count": 84,
   "metadata": {},
   "outputs": [],
   "source": [
    "# select feature for OUTPUT (cancer_type) -> binary type:(1,2)\n",
    "df_label = df8[['cancer_type']]\n",
    "# df_label.head()"
   ]
  },
  {
   "cell_type": "markdown",
   "metadata": {},
   "source": [
    "### Train the model\n",
    "Training the neural network model requires the following steps:\n",
    "\n",
    "    - Feed the training data to the model. In this example, the training data is in the \n",
    "        train_data and train_labels arrays.\n",
    "    \n",
    "    - The model learns to associate data and labels.\n",
    "    \n",
    "    - You ask the model to make predictions about a test set—in this example,\n",
    "          the test_data array.\n",
    "    \n",
    "    - Verify that the predictions match the labels from the test_labels array.\n"
   ]
  },
  {
   "cell_type": "markdown",
   "metadata": {},
   "source": [
    "### Extrapolate Train and Test data"
   ]
  },
  {
   "cell_type": "code",
   "execution_count": 85,
   "metadata": {},
   "outputs": [],
   "source": [
    "# Generate TRAIN X\n",
    "df_train_data = df_data.loc[:round(LEN*P_train)]\n",
    "x_train = df_train_data.to_numpy()"
   ]
  },
  {
   "cell_type": "code",
   "execution_count": 86,
   "metadata": {},
   "outputs": [],
   "source": [
    "# Generate TRAIN Y\n",
    "df_train_label = df_label.loc[:round(LEN*P_train)]\n",
    "y_train = df_train_label.to_numpy()"
   ]
  },
  {
   "cell_type": "code",
   "execution_count": 87,
   "metadata": {},
   "outputs": [],
   "source": [
    "# Generate TEST X\n",
    "df_test_data = df_data.loc[round(1-(LEN*P_train)):]\n",
    "x_test = df_test_data.to_numpy()"
   ]
  },
  {
   "cell_type": "code",
   "execution_count": 88,
   "metadata": {},
   "outputs": [],
   "source": [
    "# Generate TEST Y\n",
    "df_test_label = df_label.loc[round(1-(LEN*P_train)):]\n",
    "y_test = df_test_label.to_numpy()"
   ]
  },
  {
   "cell_type": "markdown",
   "metadata": {},
   "source": [
    "### Build the Model"
   ]
  },
  {
   "cell_type": "code",
   "execution_count": 89,
   "metadata": {},
   "outputs": [],
   "source": [
    "model = Sequential()\n",
    "model.add(Dense(128, input_dim=NUM_features, activation='relu'))\n",
    "model.add(Dropout(0.5))\n",
    "model.add(Dense(64, activation='relu'))\n",
    "model.add(Dropout(0.5))\n",
    "model.add(Dense(64, activation='relu'))\n",
    "model.add(Dropout(0.5))\n",
    "model.add(Dense(64, activation='relu'))\n",
    "model.add(Dropout(0.5))\n",
    "model.add(Dense(1, activation='sigmoid'))"
   ]
  },
  {
   "cell_type": "markdown",
   "metadata": {},
   "source": [
    "### Compile the Model"
   ]
  },
  {
   "cell_type": "code",
   "execution_count": 90,
   "metadata": {},
   "outputs": [],
   "source": [
    "model.compile(loss='binary_crossentropy',\n",
    "              optimizer='RMSprop',\n",
    "              metrics=['accuracy'])"
   ]
  },
  {
   "cell_type": "markdown",
   "metadata": {},
   "source": [
    "### Fit the Model"
   ]
  },
  {
   "cell_type": "code",
   "execution_count": 91,
   "metadata": {},
   "outputs": [
    {
     "name": "stdout",
     "output_type": "stream",
     "text": [
      "Train on 58058 samples\n",
      "Epoch 1/3\n",
      "58058/58058 [==============================] - 20s 344us/sample - loss: -21739516759702240.0000 - accuracy: 0.2374\n",
      "Epoch 2/3\n",
      "58058/58058 [==============================] - 18s 304us/sample - loss: -1278966232226837504.0000 - accuracy: 0.2375\n",
      "Epoch 3/3\n",
      "58058/58058 [==============================] - 18s 302us/sample - loss: -12988883344983248896.0000 - accuracy: 0.2375\n"
     ]
    },
    {
     "data": {
      "text/plain": [
       "<tensorflow.python.keras.callbacks.History at 0x7f299a235210>"
      ]
     },
     "execution_count": 91,
     "metadata": {},
     "output_type": "execute_result"
    }
   ],
   "source": [
    "model.fit(x_train, y_train,\n",
    "          epochs=EPOCHS,\n",
    "          batch_size=BATCH_SIZE)"
   ]
  },
  {
   "cell_type": "code",
   "execution_count": 92,
   "metadata": {},
   "outputs": [
    {
     "name": "stderr",
     "output_type": "stream",
     "text": [
      "IOPub data rate exceeded.\n",
      "The notebook server will temporarily stop sending output\n",
      "to the client in order to avoid crashing it.\n",
      "To change this limit, set the config variable\n",
      "`--NotebookApp.iopub_data_rate_limit`.\n",
      "\n",
      "Current values:\n",
      "NotebookApp.iopub_data_rate_limit=1000000.0 (bytes/sec)\n",
      "NotebookApp.rate_limit_window=3.0 (secs)\n",
      "\n"
     ]
    }
   ],
   "source": [
    "# possible Error : IOPub data rate exceeded.\n",
    "# Solution below to enter into the terminal \n",
    "# jupyter notebook --NotebookApp.iopub_data_rate_limit=1.0e10\n",
    "# and restart the .ipynb file\n",
    "score = model.evaluate(x_test, y_test, batch_size = BATCH_SIZE)"
   ]
  }
 ],
 "metadata": {
  "kernelspec": {
   "display_name": "Python 3",
   "language": "python",
   "name": "python3"
  },
  "language_info": {
   "codemirror_mode": {
    "name": "ipython",
    "version": 3
   },
   "file_extension": ".py",
   "mimetype": "text/x-python",
   "name": "python",
   "nbconvert_exporter": "python",
   "pygments_lexer": "ipython3",
   "version": "3.7.6"
  }
 },
 "nbformat": 4,
 "nbformat_minor": 4
}
